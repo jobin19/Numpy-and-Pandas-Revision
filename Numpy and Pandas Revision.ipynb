{
 "cells": [
  {
   "cell_type": "code",
   "execution_count": 4,
   "id": "13a40f2d",
   "metadata": {},
   "outputs": [
    {
     "name": "stdout",
     "output_type": "stream",
     "text": [
      "[0 1 2 3 4 5 6 7 8 9]\n"
     ]
    }
   ],
   "source": [
    "import numpy as np\n",
    "import pandas as pd\n",
    "# Create an array of integers from 0 to 9\n",
    "arr = np.arange(10)\n",
    "\n",
    "# Print the array\n",
    "print(arr)\n",
    "\n"
   ]
  },
  {
   "cell_type": "code",
   "execution_count": 5,
   "id": "7d69885b",
   "metadata": {},
   "outputs": [
    {
     "name": "stdout",
     "output_type": "stream",
     "text": [
      "4.5\n",
      "2.8722813232690143\n"
     ]
    }
   ],
   "source": [
    "# Calculate the mean of the array\n",
    "mean = np.mean(arr)\n",
    "print(mean)\n",
    "\n",
    "# Calculate the standard deviation of the array\n",
    "std_dev = np.std(arr)\n",
    "print(std_dev)"
   ]
  },
  {
   "cell_type": "code",
   "execution_count": 6,
   "id": "b85a4adb",
   "metadata": {},
   "outputs": [
    {
     "name": "stdout",
     "output_type": "stream",
     "text": [
      "    Name  Age  Gender\n",
      "0   John   25    Male\n",
      "1   Jane   30  Female\n",
      "2   Mike   21    Male\n",
      "3  Emily   35  Female\n",
      "    Name  Age  Gender\n",
      "2   Mike   21    Male\n",
      "0   John   25    Male\n",
      "1   Jane   30  Female\n",
      "3  Emily   35  Female\n",
      "    Name  Age  Gender\n",
      "1   Jane   30  Female\n",
      "3  Emily   35  Female\n"
     ]
    }
   ],
   "source": [
    "# Create a dataframe from a dictionary\n",
    "data = {'Name': ['John', 'Jane', 'Mike', 'Emily'],\n",
    "        'Age': [25, 30, 21, 35],\n",
    "        'Gender': ['Male', 'Female', 'Male', 'Female']}\n",
    "df = pd.DataFrame(data)\n",
    "\n",
    "# Print the dataframe\n",
    "print(df)\n",
    "\n",
    "# Sort the dataframe by age in ascending order\n",
    "df_sorted = df.sort_values(by=['Age'], ascending=True)\n",
    "print(df_sorted)\n",
    "\n",
    "# Filter the dataframe to only include females\n",
    "df_female = df[df['Gender'] == 'Female']\n",
    "print(df_female)"
   ]
  },
  {
   "cell_type": "code",
   "execution_count": null,
   "id": "04b5b267",
   "metadata": {},
   "outputs": [],
   "source": []
  }
 ],
 "metadata": {
  "kernelspec": {
   "display_name": "Python 3 (ipykernel)",
   "language": "python",
   "name": "python3"
  },
  "language_info": {
   "codemirror_mode": {
    "name": "ipython",
    "version": 3
   },
   "file_extension": ".py",
   "mimetype": "text/x-python",
   "name": "python",
   "nbconvert_exporter": "python",
   "pygments_lexer": "ipython3",
   "version": "3.9.12"
  }
 },
 "nbformat": 4,
 "nbformat_minor": 5
}
